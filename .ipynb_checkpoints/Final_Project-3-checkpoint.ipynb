{
 "cells": [
  {
   "cell_type": "markdown",
   "id": "97671857-009c-41dd-8b2a-2c84cc7b5d27",
   "metadata": {},
   "source": [
    "# Final Project - Analysis of the Effect of Reach on the Number of Significant Strikes Landed per Min in the UFC Fights in Account to Heights\n",
    "Group Members: Byeong Heon Ahn (bha233), Kanishk Aggarwal (ka3506), Dhruv Topiwala (dmt9779)"
   ]
  },
  {
   "cell_type": "markdown",
   "id": "d8d483e9-eff9-4e9a-a30d-dc4ba03e469d",
   "metadata": {},
   "source": [
    "## Hypothesis\n",
    "\n",
    "For this project, we will analyze the causal effect of the reach of the fighters on the number of significant strikes landed per min. To analyze both the total and direct causal effect of the reach on the number of significant strikes landed per min, we will use the reach and the number of significant strikes landed per min of the individual fighters on the blue side. The height of the fighters on the blue side will also be considered as one of the potential confounds since it reasonably influences both the reach and the number of significant strikes landed per min. As a hypothesis, we assume that the reach will be positively proportional to the the number of significant strikes landed per min when the height is accounted (longer the reach more significant strikes the fighter could land per minute)."
   ]
  },
  {
   "cell_type": "markdown",
   "id": "a5472eb6-bbaa-47ff-9a5b-7265ea48e989",
   "metadata": {},
   "source": [
    "## Dataset\n",
    "\n",
    "We will use the $\\href{https://www.kaggle.com/datasets/mdabbert/ultimate-ufc-dataset/data}{Ultimate-UFC-Fights-dataset}$ (ufc_master.csv), which includes the various data of each fights. Since we are exploring the hypothesis of the influence of the reach on the number of significant strikes landed per min while the height is also considered as a confound, the reach, height, and the number of significant strikes landed per min of the fighters on the blue side will be used in this project.\n",
    "\n",
    "To use the dataset, we downloaded the csv file and included in the project folder so it is easier to access and handle the data through:\n",
    "\n",
    "pd.read_csv(\"Data/ufc_master.csv\")\n",
    "\n",
    "For this project, we will only be using the \"BlueHeightCms\", \"BlueReachCms\", and \"BlueAvgSigStrLanded\"."
   ]
  },
  {
   "cell_type": "markdown",
   "id": "1d3bbf2c-08f7-4b05-8a6a-fd7ecffc19a8",
   "metadata": {},
   "source": [
    "## Causal Model"
   ]
  },
  {
   "cell_type": "code",
   "execution_count": null,
   "id": "8c44509c-aa2f-400c-bf57-def1766efd3e",
   "metadata": {},
   "outputs": [],
   "source": [
    "import networkx as nx\n",
    "import matplotlib.pyplot as plt\n",
    "\n",
    "graph = nx.DiGraph()\n",
    "graph.add_edges_from([(\"H\", \"R\"), (\"H\", \"SS\"), (\"R\", \"SS\")])\n",
    "\n",
    "positions = {\n",
    "    \"H\": (1, 1),\n",
    "    \"R\": (0,0),\n",
    "    \"SS\": (2,0)\n",
    "}\n",
    "\n",
    "nx.draw_networkx(\n",
    "    graph,\n",
    "    pos=positions,\n",
    "    arrows=True,\n",
    "    node_color=[\"yellow\", \"yellow\", \"pink\"],\n",
    "    node_size=3000\n",
    ")\n",
    "plt.axis('off')\n",
    "plt.tight_layout()\n",
    "plt.show()"
   ]
  },
  {
   "cell_type": "markdown",
   "id": "c3f7f3ea-837d-42ae-a569-d96086c6d46c",
   "metadata": {},
   "source": [
    "The DAG graph above represents the causal relationships between the reach (R), height (H), and the number of significant strikes landed per min (SS). As briefly addressed in the hypothesis, the associations between the variables are made under a reasonable scientific model:\n",
    "\n",
    "1. R_i = $f_{R} (H_i)$\n",
    "\n",
    "The height of a fighter (H) directly influences the reach of the fighter (R) as the reach gets longer as human grows and gets taller.\n",
    "\n",
    "2. SS_i = $f_{SS} (R_i, H_i)$\n",
    "\n",
    "Both the the reach (R) and the height (H) directly affects the number of significant strikes landed per min since having the longer reach and being taller than the opponent means that the fighter has a bigger safety zone and easier to reach to the opponent so that one can land more significant strikes easily and safely.\n",
    "\n",
    "Thus, as we see that the height (H) is a confounder (H affects both R and SS  [R $\\leftarrow$ H $\\rightarrow$ SS]), we need to condition on the height when measuring both the direct and total causal effects of the reach on the number of significant strikes landed per min; the height will be included in the model to measure both the direct and total causal effects of R on SS."
   ]
  },
  {
   "cell_type": "markdown",
   "id": "ac0dcdc2-7167-43b7-b91d-822d29928b94",
   "metadata": {},
   "source": [
    "## Statistical Model"
   ]
  },
  {
   "cell_type": "markdown",
   "id": "31f58b47-818d-45aa-91e4-e9b6761b24f0",
   "metadata": {},
   "source": [
    "### Prior Predictive Simulation\n",
    "\n",
    "Before the prior predictive simulation, the ufc_master.csv data will be explored."
   ]
  },
  {
   "cell_type": "code",
   "execution_count": null,
   "id": "df3e20a9-0767-4042-8b0a-c6fb1ab1c955",
   "metadata": {},
   "outputs": [],
   "source": [
    "import pandas as pd\n",
    "import numpy as np\n",
    "import seaborn as sns\n",
    "import matplotlib.pyplot as plt\n",
    "import pymc as pm\n",
    "import arviz as az\n",
    "import seaborn as sns\n",
    "import scipy.stats as stats\n",
    "import networkx as nx\n",
    "from scipy.special import expit as logistic"
   ]
  },
  {
   "cell_type": "code",
   "execution_count": null,
   "id": "dd77b0bd-8905-4d7e-8ed0-e366f41af677",
   "metadata": {},
   "outputs": [],
   "source": [
    "import warnings\n",
    "warnings.simplefilter(action=\"ignore\")\n",
    "\n",
    "rnd_seed = 42\n",
    "np.random.seed(rnd_seed)\n",
    "%matplotlib inline\n",
    "\n",
    "%config Inline.figure_format = 'retina'\n",
    "az.rcParams[\"stats.hdi_prob\"] = 0.89  # sets default credible interval used by arviz\n",
    "plt.style.use('dark_background')"
   ]
  },
  {
   "cell_type": "code",
   "execution_count": null,
   "id": "68d312df-be5f-4b8e-b7a3-924793c30dd3",
   "metadata": {},
   "outputs": [],
   "source": [
    "def standardize(series):\n",
    "    \"\"\"Standardize a pandas series\"\"\"\n",
    "    return (series - series.mean()) / series.std()"
   ]
  },
  {
   "cell_type": "code",
   "execution_count": null,
   "id": "8dbebd0e-851b-425a-a3ae-e0e3f660229b",
   "metadata": {},
   "outputs": [],
   "source": [
    "df = pd.read_csv(\"Data/ufc-master.csv\")\n",
    "columns = [\"BlueReachCms\", \"BlueHeightCms\", \"BlueAvgSigStrLanded\"]\n",
    "print(columns)\n",
    "df = df[columns]\n",
    "df.head()"
   ]
  },
  {
   "cell_type": "markdown",
   "id": "9b2f1fcc-9456-4f8c-9b2f-bca713f84025",
   "metadata": {},
   "source": [
    "### Research on Average Reach, Height, and Number of Significant Strikes Landed per Min of UFC Fighters"
   ]
  },
  {
   "cell_type": "markdown",
   "id": "ebecf5a8-3844-4f95-85a8-b8e0650d1a77",
   "metadata": {},
   "source": [
    "From the research, the $\\href{https://www.reference.com/science-technology/average-human-arm-span-c07bdf92e5fa8755}{Reference}$ website states that the average arm span length for man is about 5 feet 9 inches (175.26 cm). Since it was hard to find the average reach length of the UFC fighters across all weight classes, we will use this general average arm span length information for man as the average reach length of the UFC fighters. Thus, as an estimation, we are going to use the standard deviation of 10.00 cm with 175.26 cm as the average reach length of the UFC fighters.\n",
    "\n",
    "According to the $\\href{https://jokermag.com/average-height-ufc-fighters/}{jokermag}$ website, it states the average height of the UFC fighters across all weight classes is about 5 feet 9.5 inches (176.62 cm). Thus, as an estimation, we are going to use the standard deviation of 10.00 cm with 176.62 cm as the average height of the UFC fighters.\n",
    "\n",
    "From the research, we could not find the average number of significant strikes landed per min of the UFC fighters. However, according to the $\\href{http://statleaders.ufc.com/career?fighter_status=0}{Official-UFC-Record-Book}$, the highest significant strikes landed per minute is 8.10. Since the possible least significant strikes landed per minute will be 0, we are going to estimate the average number of significant strikes landed per min is 4.05 with a standard deviation of 1.\n",
    "\n",
    "With this researched information, we see that in the plots above, there are data points which have the value for the number of significant strikes landed per min greater than 8.10. We will double-check if the pre-processed dataset has the appropriate data values for the number of significant strikes landed per min."
   ]
  },
  {
   "cell_type": "code",
   "execution_count": null,
   "id": "dc5e1837-1342-47fa-ab5b-af2f4e973f75",
   "metadata": {},
   "outputs": [],
   "source": [
    "# The min of the number of significant strikes landed per min\n",
    "num_sig_str = \"BlueAvgSigStrLanded\"\n",
    "print(f\"The minimum number of significant strikes landed per min: {df[num_sig_str].min()}\")\n",
    "\n",
    "# The max of the number of significant strikes landed per min\n",
    "print(f\"The maximum number of significant strikes landed per min: {df[num_sig_str].max()}\")"
   ]
  },
  {
   "cell_type": "markdown",
   "id": "9e172204-e7c1-44d2-a709-93a964971463",
   "metadata": {},
   "source": [
    "From the min and max values above, we see that while the minimum values is reasonable (sometimes there are some fights which ends in few seconds with just one significant attack, in which case the significant attack of the person lost would be 0), it is not reasonable that a fighter would land 154 significant strikes per minute in a fight. Also, as the official UFC Record Book states the highest significant strikes landed per min is 8.10, we can conclude that some of the data points in the datasets are not reasonable. Thus, we will further process the data points that has the number of significant strikes landed per min over 8.10. Also, before we proceed further, we will clean up and process the dataset."
   ]
  },
  {
   "cell_type": "code",
   "execution_count": null,
   "id": "846c1470-f0cc-4808-b5ce-72b14d73ace6",
   "metadata": {},
   "outputs": [],
   "source": [
    "# Cleaning dataset for any data point that has NaN value\n",
    "processed_df = df.dropna()\n",
    "\n",
    "# Cleaning dataset for any data point that has the BlueAvgSigStrLanded values greater than 8.10\n",
    "# processed_df = processed_df[processed_df[num_sig_str] <= 8.10]\n",
    "\n",
    "# Cleaning dataset for any data point that has the BlueReachCms or BlueHeightCms < 100\n",
    "# processed_df = processed_df[(processed_df['BlueReachCms'] > 100) & (processed_df['BlueHeightCms'] >100)]\n",
    "\n",
    "# Check if the processed dataset is clean\n",
    "print(f\"Any NaN in the processed dataset: \\n{processed_df.isna().any()}\\n\")\n",
    "\n",
    "print(f\"Any number of significant strike landed per min greater than 8.10: {np.where(processed_df[num_sig_str]>8.10)[0]}\\n\")\n",
    "\n",
    "print(f\"Any reach or height of the figher less than 100: {np.where(processed_df[[\"BlueReachCms\", \"BlueHeightCms\"]]<100)[0]}\")"
   ]
  },
  {
   "cell_type": "code",
   "execution_count": null,
   "id": "b0c23c97-9b0f-49f9-b5f3-0696f6da7161",
   "metadata": {},
   "outputs": [],
   "source": [
    "# The min of the number of significant strikes landed per min\n",
    "print(f\"The minimum number of significant strikes landed per min in processed dataset: {processed_df[num_sig_str].min()}\")\n",
    "\n",
    "# The max of the number of significant strikes landed per min\n",
    "print(f\"The maximum number of significant strikes landed per min in processed dataset: {processed_df[num_sig_str].max()}\")"
   ]
  },
  {
   "cell_type": "markdown",
   "id": "8b5434cb-84fb-44f3-ab5c-0af844104732",
   "metadata": {},
   "source": [
    "### Plot the Real Data Points and Find Min and Max Values of Standardized Reach and Height for Ranges"
   ]
  },
  {
   "cell_type": "markdown",
   "id": "f50e67c7-920f-43a9-8f50-6817491509d1",
   "metadata": {},
   "source": [
    "We will now plot the real data points where the values for reach, height, and the number of significant strikes landed per minute. Moreover, we will be standardizing the values of reach and height for better interpretation since the magnitude and range of reach and height values are too big compared to the values of the number of significant strike per minute. Also, for the prior predictive simulation, we will be using the number of significant strike landed per minute as it is, but for fitting the statistical models to the real data, we will be standardizing the data of the number of significant strike landed per minute when it is used as the observed reference for better interpretation."
   ]
  },
  {
   "cell_type": "code",
   "execution_count": null,
   "id": "f7e0c7c5-19d9-465b-a5d2-93ff68120d64",
   "metadata": {},
   "outputs": [],
   "source": [
    "blue_reach_std = standardize(processed_df.BlueReachCms)\n",
    "blue_height_std = standardize(processed_df.BlueHeightCms)"
   ]
  },
  {
   "cell_type": "code",
   "execution_count": null,
   "id": "24076a3e-ff3e-4425-8911-74c4b0f3a6c0",
   "metadata": {},
   "outputs": [],
   "source": [
    "sns.scatterplot(x = blue_reach_std, y = processed_df.BlueAvgSigStrLanded, color=\"#e06666\")\n",
    "plt.xlabel(\"Reach in cm (standardized)\")\n",
    "plt.ylabel(\"Number of Sig. Strike Landed / Min (standardized)\")\n",
    "plt.title(\"Scatter Plot of Standarized Reach vs. Average of Significant Strike\")\n",
    "sns.despine();"
   ]
  },
  {
   "cell_type": "code",
   "execution_count": null,
   "id": "e35b7231-f89b-43eb-832a-5b8ee9728914",
   "metadata": {},
   "outputs": [],
   "source": [
    "sns.scatterplot(x = blue_height_std, y = processed_df.BlueAvgSigStrLanded,color=\"#e06666\")\n",
    "plt.xlabel(\"Height in cm (standardized)\")\n",
    "plt.ylabel(\"Number of Sig. Strike Landed / Min (standardized)\")\n",
    "plt.title(\"Scatter Plot of Standarized Height vs. Average Rate of Significant Strike\")\n",
    "sns.despine();"
   ]
  },
  {
   "cell_type": "code",
   "execution_count": null,
   "id": "3e2e1e98-b4f9-4c3a-9618-677fa0413161",
   "metadata": {},
   "outputs": [],
   "source": [
    "sns.scatterplot(x = blue_height_std, y = blue_reach_std,color=\"#e06666\")\n",
    "plt.xlabel(\"Height in cm (standardized)\")\n",
    "plt.ylabel(\"Reach in cm (standardized)\")\n",
    "plt.title(\"Scatter Plot of Standarized Height vs. Reach\")\n",
    "sns.despine();"
   ]
  },
  {
   "cell_type": "code",
   "execution_count": null,
   "id": "6d1e1570-61a7-41fd-a0cb-598872ee53a6",
   "metadata": {},
   "outputs": [],
   "source": [
    "print(\"The minimum value of standardized reach:\",blue_reach_std.min())\n",
    "print(\"The maximum value of standardized reach:\",blue_reach_std.max())\n",
    "\n",
    "print(\"\\nThe minimum value of standardized height:\",blue_height_std.min())\n",
    "print(\"The maximum value of standardized height:\",blue_height_std.max())"
   ]
  },
  {
   "cell_type": "markdown",
   "id": "6ad83704-cca8-410e-aad7-a365ba2d360c",
   "metadata": {},
   "source": [
    "### Prior Predictive Simulations\n",
    "\n",
    "With the min and max values of reach and height, we will set the range of the x-axis from -3 to 2.8 for the prior simulation of reach and from -2.7 to 2.8 for the prior simulation of height. The range of the y-axis will be set from 0 to 8.10 since the min and max values of the number of significant strike landed per minute are 0 and 8.07 respectively.\n",
    "\n",
    "Based one the causal relationship we examined with the DAG graph, we will formulate the statistical model with the predictive priors for reach and height.\n",
    "\n",
    "As the statistical model for the total and direct causal effect of the reach on the number of significant strike landed per minute, \n",
    "\n",
    "- We previously formulated the causal model as $SS_i = f_{ss}(R_i, H_i)$ where the height is included in the model as the predictor variable since it is conditioned on for being a confounder, as well as the reach which is in the model as the treatment variable. Elaborating the causal model more in detail, we will use the standard distribution for the number of significant strike landed per minute, which is the normal distribution, where $\\mu_i$ is the expectation value of the number of significant strikes landed per minute and $\\sigma$ is the standard deviation of the number of significant strikes landed per minute.\n",
    "\n",
    "- The $\\sigma$ will be set with the uniform distribution with mu of 0 and standard deviation of 1 as we decided the standard deviation for the number of significant strike landed per minute in the research section.\n",
    "\n",
    "- The $\\mu_i$ will be set with the linear equation ($\\mu_i = \\alpha + \\beta_R R_i + \\beta_H H_i$) which is deterministic, where $\\alpha$ is the value of $\\mu$ when $R_i$ and $H_i$ are 0 and $\\beta_R$ and $\\beta_H$ are the prior distribution for reach and height that we will explore and find the reasonable ones for them. \n",
    "\n",
    "- The $\\alpha$, which is the y-intercept of the number of significant strikes landed per minute will be set with the normal distribution with its $\\mu$ and $\\sigma$ are set with the researched average and standard deviation of the number of significant strike landed per minute, which are 4.05 and 1.0.\n",
    "\n",
    "Thus, for the first prior predictive simulation, we will try the normal distribution with $\\mu$ = 0 and $\\sigma$ = 10 for $\\beta_R$ and $\\beta_H$:\n",
    "\n",
    "$SS_i \\sim Normal(\\mu_i,\\sigma)$\n",
    "\n",
    "$\\mu_i = \\alpha + \\beta_R R_i + \\beta_H H_i$\n",
    "\n",
    "$\\alpha \\sim Normal(4.05, 1.0)$\n",
    "\n",
    "$\\beta_R \\sim Normal(0, 10)$\n",
    "\n",
    "$\\beta_H \\sim Normal(0, 10)$\n",
    "\n",
    "$\\sigma \\sim Uniform(0, 1)$"
   ]
  },
  {
   "cell_type": "code",
   "execution_count": null,
   "id": "860008da-b27a-4080-a508-60c37f6e8e6e",
   "metadata": {},
   "outputs": [],
   "source": [
    "# First prior predictive simulation for reach\n",
    "NUM_LINES = 10\n",
    "\n",
    "x_seq = np.linspace(-3, 2.8, 50)\n",
    "\n",
    "alpha = stats.norm.rvs(4.05, 1.0, size=NUM_LINES, random_state = rnd_seed)\n",
    "beta_R = stats.norm.rvs(0, 10, size=NUM_LINES, random_state = rnd_seed)\n",
    "\n",
    "for i in range(NUM_LINES):\n",
    "    mu = alpha[i] + beta_R[i] * x_seq\n",
    "    _ = plt.plot(x_seq, mu, color=\"#e06666\")\n",
    "    \n",
    "_ = plt.ylabel(\"Number of Significant Strike landed per minute\")\n",
    "_ = plt.xlabel(\"Reach in cm (standardized)\")\n",
    "_ = plt.title(\"First Prior Predictive Simulation for Standardized Reach\")\n",
    "_ = plt.xlim(-3, 2.8)\n",
    "_ = plt.ylim(0, 8.10)\n",
    "sns.despine();"
   ]
  },
  {
   "cell_type": "markdown",
   "id": "969d0e1b-ff14-45ac-931d-adcca6925eda",
   "metadata": {},
   "source": [
    "From the plot above on the first prior predictive simulation of reach with $\\beta_R \\sim Normal(0, 10)$, it is reasonable for the prior lines to have either positive or negative slope since increasing reach could result in either increase or decrease of the number of significant strike landed per minute; while we can generalize it for reach and height that increasing reach and height would always increase the number of significant strikes landed per minute, we will include the possibility of increasing reach and height resulting in decrease of number of significant strike landed per minute.\n",
    "\n",
    "However, the small increases of the reach length lead to the dramatic expected number of significant strike landed per minute. Thus, the prior lines are not representing the realistic relations between the length of reach and the number of significant strike landed per minute. Moreover, throughout the range of the reach, the expected number of significant strike landed per minute exceed its desired range, which is from 0 to 8.10."
   ]
  },
  {
   "cell_type": "code",
   "execution_count": null,
   "id": "74e66b73-2aa0-4952-835d-861e22d694b9",
   "metadata": {},
   "outputs": [],
   "source": [
    "# First prior predictive simulation for height\n",
    "NUM_LINES = 10\n",
    "\n",
    "x_seq = np.linspace(-2.7, 2.8, 50)\n",
    "\n",
    "alpha = stats.norm.rvs(4.05, 1.0, size=NUM_LINES, random_state = rnd_seed)\n",
    "beta_H = stats.norm.rvs(0, 10, size=NUM_LINES, random_state = rnd_seed)\n",
    "\n",
    "for i in range(NUM_LINES):\n",
    "    mu = alpha[i] + beta_H[i] * x_seq\n",
    "    _ = plt.plot(x_seq, mu, color=\"#e06666\")\n",
    "    \n",
    "_ = plt.ylabel(\"Number of Significant Strike landed per minute\")\n",
    "_ = plt.xlabel(\"Height in cm (standardized)\")\n",
    "_ = plt.title(\"First Prior Predictive Simulation for Standardized Height\")\n",
    "_ = plt.xlim(-2.7, 2.8)\n",
    "_ = plt.ylim(0, 8.10)\n",
    "sns.despine();"
   ]
  },
  {
   "cell_type": "markdown",
   "id": "2215913f-6379-43d8-8a8b-7acd885b03f6",
   "metadata": {},
   "source": [
    "The plot above is the first prior predictive simulation of height with $\\beta_H \\sim Normal(0, 10)$. Similar to the prior lines simulated for reach, it is reasonable for the prior lines to have either positive or negative slope since increasing height could result in either increase or decrease of the number of significant strike landed per minute.\n",
    "\n",
    "However, the small increases of the height lead to the dramatic expected number of significant strike landed per minute. Thus, the prior lines for relation of height and the number of significant strike landed per minute are also not representing the realistic relations between the heights and the number of significant strike landed per minute. Furthermore, this plot also shows that within the range of the height, the expected number of significant strike landed per minute exceeds the desired range from 0 to 8.10.\n",
    "\n",
    "Thus, we concluded that setting the prior distribution as $\\beta_R \\sim Normal(0, 10)$ and $\\beta_H \\sim Normal(0, 10)$ for reach and height, respectively, represent non realistic relations of each variable with the number of significant strike landed per minute. However, we analyzed that it is appropriate to use the normal distribution for both beta as the normal distribution generates either positive or negative relations between each variable with the number of significant strike landed per minute, which we desired as described before.\n",
    "\n",
    "As a result, we will continue to use the normal distribution for both beta and for the second prior predictive simulation of each variable, we will change the standard deviation of the normal distribution from 10 to 0.3, which will decrease the magnitude of the beta when it is randomly sampled."
   ]
  },
  {
   "cell_type": "code",
   "execution_count": null,
   "id": "86c41d85-239a-4c40-840c-550ab09fb9ea",
   "metadata": {},
   "outputs": [],
   "source": [
    "# Second prior predictive simulation for reach\n",
    "NUM_LINES = 10\n",
    "\n",
    "x_seq = np.linspace(-3, 2.8, 50)\n",
    "\n",
    "alpha = stats.norm.rvs(4.05, 1.0, size=NUM_LINES, random_state = rnd_seed)\n",
    "beta_R = stats.norm.rvs(0, 0.3, size=NUM_LINES, random_state = rnd_seed)\n",
    "\n",
    "for i in range(NUM_LINES):\n",
    "    mu = alpha[i] + beta_R[i] * x_seq\n",
    "    _ = plt.plot(x_seq, mu, color=\"#e06666\")\n",
    "    \n",
    "_ = plt.ylabel(\"Number of Significant Strike landed per minute\")\n",
    "_ = plt.xlabel(\"Reach in cm (standardized)\")\n",
    "_ = plt.title(\"Second Prior Predictive Simulation for Standardized Reach\")\n",
    "_ = plt.xlim(-3, 2.8)\n",
    "_ = plt.ylim(0, 8.10)\n",
    "sns.despine();"
   ]
  },
  {
   "cell_type": "code",
   "execution_count": null,
   "id": "559251b9-b42b-42b7-9daa-771f32765194",
   "metadata": {},
   "outputs": [],
   "source": [
    "# Second prior predictive simulation for height\n",
    "NUM_LINES = 10\n",
    "\n",
    "x_seq = np.linspace(-2.7, 2.8, 50)\n",
    "\n",
    "alpha = stats.norm.rvs(4.05, 1.0, size=NUM_LINES, random_state = rnd_seed)\n",
    "beta_H = stats.norm.rvs(0, 0.3, size=NUM_LINES, random_state = rnd_seed)\n",
    "\n",
    "for i in range(NUM_LINES):\n",
    "    mu = alpha[i] + beta_H[i] * x_seq\n",
    "    _ = plt.plot(x_seq, mu, color=\"#e06666\")\n",
    "    \n",
    "_ = plt.ylabel(\"Number of Significant Strike landed per minute\")\n",
    "_ = plt.xlabel(\"Height in cm (standardized)\")\n",
    "_ = plt.title(\"Second Prior Predictive Simulation for Standardized Height\")\n",
    "_ = plt.xlim(-2.7, 2.8)\n",
    "_ = plt.ylim(0, 8.10)\n",
    "sns.despine();"
   ]
  },
  {
   "cell_type": "markdown",
   "id": "836f943d-c368-4556-a442-16724f1fa528",
   "metadata": {},
   "source": [
    "As illustrated in the above for the second prior predictive simulations for reach and height, we observe that each prior plot has either positive or negative slope, which expected. Also, the little increases in reach or height lead to moderate expected number of significant strike landed per minute, which the expected number of significant strike landed per minute stays within the desired range which are from 0 to 8.10. Thus, we concluded that for both reach and height, the normal distribution with $\\mu$ = 0 and $\\sigma$ = 0.3 is the appropriate prior distribution."
   ]
  },
  {
   "cell_type": "markdown",
   "id": "9a484883-f6a4-45e7-b025-86ebca149a8e",
   "metadata": {},
   "source": [
    "### Fit the Model\n",
    "\n",
    "With the statistical model that we defined and the prior distribution that we found reasonable in the previous section, we will fit the model with the dataset we processed before. Also, as explained before, height is included in the model as a predictor variable since it is a confounder that affects both the number of significant strike landed per minute and reach. The reach is included in the model as a treatment variable which we are interested to examine its influence on the target variable. Lastly, the number of significant strike landed per minute is included in the model as the target variable. Furthermore, as mentioned before, the standardized values of reach and height will be used for better interpretation since their large range of values and magnitude.\n",
    "\n",
    "Moreover, we will also analyze the quadratic and cubic regression models as well as the linear regression model, which the deterministic equation $\\mu_i$ will be changed to $\\mu_i = \\alpha + \\beta_R R_i + \\beta_R R_i^2 + \\beta_H H_i + \\beta_H H_i^2$ and $\\mu_i = \\alpha + \\beta_R R_i + \\beta_R R_i^2 + \\beta_R R_i^3 + \\beta_H H_i + \\beta_H H_i^2 + \\beta_H H_i^3$, respectively.\n",
    "\n",
    "Statistical models we defined with the selected prior distribution:\n",
    "\n",
    "Linear model:\n",
    "\n",
    "$SS_i \\sim Normal(\\mu_i,\\sigma)$\n",
    "\n",
    "$\\mu_i = \\alpha + \\beta_R R_i + \\beta_H H_i$\n",
    "\n",
    "$\\alpha \\sim Normal(4.05, 1.0)$\n",
    "\n",
    "$\\beta_R \\sim Normal(0, 0.3)$\n",
    "\n",
    "$\\beta_H \\sim Normal(0, 0.3)$\n",
    "\n",
    "$\\sigma \\sim Uniform(0, 1)$\n",
    "\n",
    "Quadratic model:\n",
    "\n",
    "$SS_i \\sim Normal(\\mu_i,\\sigma)$\n",
    "\n",
    "$\\mu_i = \\alpha + \\beta_R R_i + \\beta_R R_i^2 + \\beta_H H_i + \\beta_H H_i^2$\n",
    "\n",
    "$\\alpha \\sim Normal(4.05, 1.0)$\n",
    "\n",
    "$\\beta_R \\sim Normal(0, 0.3)$\n",
    "\n",
    "$\\beta_H \\sim Normal(0, 0.3)$\n",
    "\n",
    "$\\sigma \\sim Uniform(0, 1)$\n",
    "\n",
    "Cubic model:\n",
    "\n",
    "$SS_i \\sim Normal(\\mu_i,\\sigma)$\n",
    "\n",
    "$\\mu_i = \\alpha + \\beta_R R_i + \\beta_R R_i^2 + \\beta_R R_i^3 + \\beta_H H_i + \\beta_H H_i^2 + \\beta_H H_i^3$\n",
    "\n",
    "$\\alpha \\sim Normal(4.05, 1.0)$\n",
    "\n",
    "$\\beta_R \\sim Normal(0, 0.3)$\n",
    "\n",
    "$\\beta_H \\sim Normal(0, 0.3)$\n",
    "\n",
    "$\\sigma \\sim Uniform(0, 1)$"
   ]
  },
  {
   "cell_type": "code",
   "execution_count": null,
   "id": "ef174927-4ffc-4815-998c-21286a132279",
   "metadata": {},
   "outputs": [],
   "source": [
    "# Fit the linear model with processed data\n",
    "with pm.Model() as linM:\n",
    "    alpha = pm.Normal('alpha', mu = 4.05, sigma = 1.0)\n",
    "    beta_R = pm.Normal('beta_R', mu = 0, sigma = 0.3)\n",
    "    beta_H = pm.Normal('beta_H', mu = 0, sigma = 0.3)\n",
    "    sigma = pm.Exponential('sigma', 1)\n",
    "    \n",
    "    mu = pm.Deterministic('mu', alpha + beta_R * blue_reach_std + beta_H * blue_height_std)\n",
    "    SS = pm.Normal('SigStr', mu, sigma, observed = processed_df.BlueAvgSigStrLanded)\n",
    "\n",
    "    idata_lin = pm.sample(return_inferencedata=True, random_seed=rnd_seed, idata_kwargs={'log_likelihood':True})\n",
    "\n",
    "summ_lin = az.summary(idata_lin, var_names = ['alpha', 'beta_R', 'beta_H', 'sigma'], kind='stats')\n",
    "summ_lin"
   ]
  },
  {
   "cell_type": "code",
   "execution_count": null,
   "id": "6e333f59-353a-44e4-b021-4723ca8c333a",
   "metadata": {},
   "outputs": [],
   "source": [
    "# Fit the quadratic model with processed data\n",
    "with pm.Model() as quadM:\n",
    "    alpha = pm.Normal('alpha', mu = 4.05, sigma = 1.0)\n",
    "    beta_R = pm.Normal('beta_R', mu = 0, sigma = 0.3)\n",
    "    beta_R2 = pm.Normal('beta_R2', mu = 0, sigma = 0.3)\n",
    "    beta_H = pm.Normal('beta_H', mu = 0, sigma = 0.3)\n",
    "    beta_H2 = pm.Normal('beta_H2', mu = 0, sigma = 0.3)\n",
    "    sigma = pm.Exponential('sigma', 1)\n",
    "\n",
    "    mu = pm.Deterministic('mu', alpha + beta_R * blue_reach_std\n",
    "                          + beta_R2 * pow(blue_reach_std, 2) \n",
    "                          + beta_H * blue_height_std\n",
    "                          + beta_H2 * pow(blue_height_std, 2))\n",
    "    SS = pm.Normal('SigStr', mu, sigma, observed =  processed_df.BlueAvgSigStrLanded)\n",
    "\n",
    "    idata_quad = pm.sample(return_inferencedata=True, random_seed=rnd_seed, idata_kwargs={'log_likelihood':True})\n",
    "    \n",
    "summ_quad = az.summary(idata_quad, var_names = ['alpha', 'beta_R', 'beta_R2', 'beta_H', 'beta_H2', 'sigma'], kind='stats')\n",
    "summ_quad"
   ]
  },
  {
   "cell_type": "code",
   "execution_count": null,
   "id": "23a30911-ba46-4abd-840d-a12ddf3c3fd6",
   "metadata": {},
   "outputs": [],
   "source": [
    "# Fit the cubic model with processed data\n",
    "with pm.Model() as cubM:\n",
    "    alpha = pm.Normal('alpha', mu = 4.05, sigma = 1.0)\n",
    "    beta_R = pm.Normal('beta_R', mu = 0, sigma = 0.3)\n",
    "    beta_R2 = pm.Normal('beta_R2', mu = 0, sigma = 0.3)\n",
    "    beta_R3 = pm.Normal('beta_R3', mu = 0, sigma = 0.3)\n",
    "    beta_H = pm.Normal('beta_H', mu = 0, sigma = 0.3)\n",
    "    beta_H2 = pm.Normal('beta_H2', mu = 0, sigma = 0.3)\n",
    "    beta_H3 = pm.Normal('beta_H3', mu = 0, sigma = 0.3)\n",
    "    sigma = pm.Exponential('sigma', 1)\n",
    "\n",
    "    mu = pm.Deterministic('mu', alpha + beta_R * blue_reach_std\n",
    "                          + beta_R2 * pow(blue_reach_std, 2) \n",
    "                          + beta_R3 * pow(blue_reach_std, 3) \n",
    "                          + beta_H * blue_height_std\n",
    "                          + beta_H2 * pow(blue_height_std, 2)\n",
    "                          + beta_H3 * pow(blue_height_std, 3))\n",
    "    SS = pm.Normal('SigStr', mu, sigma, observed = processed_df.BlueAvgSigStrLanded)\n",
    "\n",
    "    idata_cub = pm.sample(return_inferencedata=True, random_seed=rnd_seed, idata_kwargs={'log_likelihood':True})\n",
    "\n",
    "summ_cub = az.summary(idata_cub, var_names = ['alpha', 'beta_R', 'beta_R2', 'beta_R3', 'beta_H', 'beta_H2', 'beta_H3', 'sigma'], kind='stats')\n",
    "summ_cub"
   ]
  },
  {
   "cell_type": "code",
   "execution_count": null,
   "id": "a5ae71e9-0c49-42cc-b8eb-24c33f988885",
   "metadata": {},
   "outputs": [],
   "source": [
    "# Fit the robust model with student t distribution on processed data\n",
    "with pm.Model() as linM:\n",
    "    alpha = pm.Normal('alpha', mu = 4.05, sigma = 1.0)\n",
    "    beta_R = pm.Normal('beta_R', mu = 0, sigma = 0.3)\n",
    "    beta_H = pm.Normal('beta_H', mu = 0, sigma = 0.3)\n",
    "    sigma = pm.Exponential('sigma', 1)\n",
    "    \n",
    "    mu = pm.Deterministic('mu', alpha + beta_R * blue_reach_std + beta_H * blue_height_std)\n",
    "    SS = pm.StudentT('SigStr', nu=2, mu=mu, sigma=sigma, observed = processed_df.BlueAvgSigStrLanded)\n",
    "\n",
    "    idata_rob = pm.sample(return_inferencedata=True, random_seed=rnd_seed, idata_kwargs={'log_likelihood':True})\n",
    "\n",
    "summ_rob = az.summary(idata_lin, var_names = ['alpha', 'beta_R', 'beta_H', 'sigma'], kind='stats')\n",
    "summ_rob"
   ]
  },
  {
   "cell_type": "code",
   "execution_count": null,
   "id": "90a928d6-49f5-4fc5-bb66-5a59dd8a5fff",
   "metadata": {},
   "outputs": [],
   "source": [
    "axes = az.plot_forest(\n",
    "    [idata_rob, idata_lin, idata_quad, idata_cub],\n",
    "    model_names=[\"Robust\",\"Linear\",\"Quadratic\",\"Cubic\"],\n",
    "    var_names=[\"beta_R\", \"beta_R2\", \"beta_R3\",\"beta_H\", \"beta_H2\", \"beta_H3\"],\n",
    "    combined=True,\n",
    "    hdi_prob=0.89,\n",
    "    figsize=(12, 6),\n",
    ")\n",
    "\n",
    "for ax in axes:\n",
    "    ax.axvline(0.0, color=\"white\", linestyle=\"--\", linewidth=1)\n",
    "    \n",
    "plt.title(\"All models, β-coefficients (89% HDI)\")\n",
    "plt.show()"
   ]
  },
  {
   "cell_type": "code",
   "execution_count": null,
   "id": "126ac9d7-509c-4d9b-86a6-62fffdc5f472",
   "metadata": {},
   "outputs": [],
   "source": [
    "model_dict = {\n",
    "    \"m_rob\": idata_rob,\n",
    "    \"m_lin\": idata_lin,\n",
    "    \"m_quad\": idata_quad,\n",
    "    \"m_cubic\": idata_cub,\n",
    "}\n",
    "compare_df_psis = az.compare(\n",
    "    compare_dict=model_dict,\n",
    "    ic=\"loo\",\n",
    "    scale=\"deviance\"\n",
    ")\n",
    "compare_df_psis"
   ]
  },
  {
   "cell_type": "code",
   "execution_count": null,
   "id": "068ebb41-93e8-46ed-94a9-d97fc772852f",
   "metadata": {},
   "outputs": [],
   "source": []
  },
  {
   "cell_type": "code",
   "execution_count": null,
   "id": "971b79ad-4659-4e65-bd74-6b717f78a4db",
   "metadata": {},
   "outputs": [],
   "source": []
  },
  {
   "cell_type": "code",
   "execution_count": null,
   "id": "3f8b4bc6-67df-4c75-a941-96b434aad22e",
   "metadata": {},
   "outputs": [],
   "source": []
  },
  {
   "cell_type": "code",
   "execution_count": null,
   "id": "00db2663-d70d-47b5-aa7a-0183f33e7db8",
   "metadata": {},
   "outputs": [],
   "source": []
  },
  {
   "cell_type": "code",
   "execution_count": null,
   "id": "88c61e9a-89bb-420e-8a6f-5db1ecce9b49",
   "metadata": {},
   "outputs": [],
   "source": []
  },
  {
   "cell_type": "code",
   "execution_count": null,
   "id": "f62bd5f4-99bb-4d99-a9e9-a0c9b6a37c7f",
   "metadata": {},
   "outputs": [],
   "source": []
  },
  {
   "cell_type": "code",
   "execution_count": null,
   "id": "e53f32f7-232a-4a75-9786-807c355c518d",
   "metadata": {},
   "outputs": [],
   "source": []
  },
  {
   "cell_type": "code",
   "execution_count": null,
   "id": "a910a8c2-1c40-44d2-a012-bc8798986fbd",
   "metadata": {},
   "outputs": [],
   "source": []
  },
  {
   "cell_type": "code",
   "execution_count": null,
   "id": "e946c0eb-4706-41b3-a7b8-60b507b7d488",
   "metadata": {},
   "outputs": [],
   "source": []
  },
  {
   "cell_type": "code",
   "execution_count": null,
   "id": "4b6827b1-7d6f-46e2-9661-1de82a16426f",
   "metadata": {},
   "outputs": [],
   "source": []
  },
  {
   "cell_type": "code",
   "execution_count": null,
   "id": "d54cd7b3-81fa-406e-8cc6-f47f8dd61e27",
   "metadata": {},
   "outputs": [],
   "source": []
  },
  {
   "cell_type": "code",
   "execution_count": null,
   "id": "359cbe88-d759-446a-bdf4-09b093d29a1b",
   "metadata": {},
   "outputs": [],
   "source": []
  },
  {
   "cell_type": "code",
   "execution_count": null,
   "id": "f285df21-7fb2-4856-8c8b-00e376af2f14",
   "metadata": {},
   "outputs": [],
   "source": []
  },
  {
   "cell_type": "code",
   "execution_count": null,
   "id": "cfdc4016-2012-4216-b8b1-eb3b1ca5904d",
   "metadata": {},
   "outputs": [],
   "source": []
  },
  {
   "cell_type": "code",
   "execution_count": null,
   "id": "31fcd6e8-bd9d-491a-9a5b-0782453e1e73",
   "metadata": {},
   "outputs": [],
   "source": []
  },
  {
   "cell_type": "code",
   "execution_count": null,
   "id": "4d6ebb31-62a4-4370-a249-4cb2f1876ae4",
   "metadata": {},
   "outputs": [],
   "source": []
  },
  {
   "cell_type": "code",
   "execution_count": null,
   "id": "a3a3c707-80ed-4e75-b3b5-5e9b7cb6d7dd",
   "metadata": {},
   "outputs": [],
   "source": []
  },
  {
   "cell_type": "code",
   "execution_count": null,
   "id": "997b550b-653e-4076-805d-97c7f67de741",
   "metadata": {},
   "outputs": [],
   "source": []
  },
  {
   "cell_type": "code",
   "execution_count": null,
   "id": "71bbe0b9-53f2-46b0-9ba7-47f71654598e",
   "metadata": {},
   "outputs": [],
   "source": []
  },
  {
   "cell_type": "code",
   "execution_count": null,
   "id": "c224a85b-4edf-428a-8b9f-ffaac25df819",
   "metadata": {},
   "outputs": [],
   "source": []
  },
  {
   "cell_type": "code",
   "execution_count": null,
   "id": "586a5c44-0182-4093-b32c-1d068ef654c4",
   "metadata": {},
   "outputs": [],
   "source": []
  },
  {
   "cell_type": "code",
   "execution_count": null,
   "id": "19053bfb-9c60-4eed-b8ba-a2ea7e9f51af",
   "metadata": {},
   "outputs": [],
   "source": []
  },
  {
   "cell_type": "code",
   "execution_count": null,
   "id": "8a9e506d-c349-4a6d-885f-56b78b9f33ac",
   "metadata": {},
   "outputs": [],
   "source": []
  },
  {
   "cell_type": "code",
   "execution_count": null,
   "id": "a8b5d43f-4784-4d8a-a24b-ac5d5fa291c4",
   "metadata": {},
   "outputs": [],
   "source": []
  },
  {
   "cell_type": "code",
   "execution_count": null,
   "id": "2cb1deaa-ebd4-4a4e-9e63-1d25a426d5d2",
   "metadata": {},
   "outputs": [],
   "source": []
  },
  {
   "cell_type": "code",
   "execution_count": null,
   "id": "f68482fe-ccdf-4afe-8cf8-55fcb2ef8e62",
   "metadata": {},
   "outputs": [],
   "source": []
  },
  {
   "cell_type": "code",
   "execution_count": null,
   "id": "0ca168e9-31d8-4b40-b8b5-4c8f564b87d3",
   "metadata": {},
   "outputs": [],
   "source": []
  },
  {
   "cell_type": "code",
   "execution_count": null,
   "id": "c8c2a13a-bea3-4e1a-bdf3-5488927492d9",
   "metadata": {},
   "outputs": [],
   "source": []
  },
  {
   "cell_type": "code",
   "execution_count": null,
   "id": "25003ad5-00b7-4584-aec3-2e6ca1dc3e34",
   "metadata": {},
   "outputs": [],
   "source": []
  },
  {
   "cell_type": "code",
   "execution_count": null,
   "id": "e0a94262-a7bc-4f33-85fb-b3e4affd269a",
   "metadata": {},
   "outputs": [],
   "source": []
  },
  {
   "cell_type": "code",
   "execution_count": null,
   "id": "e9a50d15-4dd0-4a2d-b3ea-863e47fb5faf",
   "metadata": {},
   "outputs": [],
   "source": []
  },
  {
   "cell_type": "code",
   "execution_count": null,
   "id": "774c7fa1-fe3c-4644-9c59-54efcedd1c9a",
   "metadata": {},
   "outputs": [],
   "source": []
  },
  {
   "cell_type": "code",
   "execution_count": null,
   "id": "92ecade4-d185-43ec-8d1d-40edd8283a46",
   "metadata": {},
   "outputs": [],
   "source": []
  },
  {
   "cell_type": "code",
   "execution_count": null,
   "id": "ce5d17de-eedb-40b5-92f4-428fc0156967",
   "metadata": {},
   "outputs": [],
   "source": []
  },
  {
   "cell_type": "code",
   "execution_count": null,
   "id": "0dda8e9b-32e4-49b1-a900-229920c50385",
   "metadata": {},
   "outputs": [],
   "source": []
  },
  {
   "cell_type": "code",
   "execution_count": null,
   "id": "82cf574f-37df-45b1-bb84-fc4f16b96448",
   "metadata": {},
   "outputs": [],
   "source": []
  },
  {
   "cell_type": "code",
   "execution_count": null,
   "id": "8473f745-f82b-4800-8ff5-42843b93cb30",
   "metadata": {},
   "outputs": [],
   "source": []
  },
  {
   "cell_type": "code",
   "execution_count": null,
   "id": "38e9cf90-93b0-47f1-aca4-ee31fa8b8042",
   "metadata": {},
   "outputs": [],
   "source": []
  },
  {
   "cell_type": "code",
   "execution_count": null,
   "id": "4ce4c114-bf7e-4e41-b543-1a83dd3551d2",
   "metadata": {},
   "outputs": [],
   "source": []
  },
  {
   "cell_type": "code",
   "execution_count": null,
   "id": "633566c4-9866-40f2-840b-a98cdfcbbb74",
   "metadata": {},
   "outputs": [],
   "source": []
  },
  {
   "cell_type": "code",
   "execution_count": null,
   "id": "ef91c552-9379-4a74-b2ab-e9d90a71dcd9",
   "metadata": {},
   "outputs": [],
   "source": []
  },
  {
   "cell_type": "code",
   "execution_count": null,
   "id": "0b96980f-4df6-423f-9e06-bfe752d13da8",
   "metadata": {},
   "outputs": [],
   "source": []
  },
  {
   "cell_type": "code",
   "execution_count": null,
   "id": "1b22dd93-e5a4-41b6-b3bc-30156f9047af",
   "metadata": {},
   "outputs": [],
   "source": []
  },
  {
   "cell_type": "code",
   "execution_count": null,
   "id": "20d2fc7a-7ccb-4797-87f2-a3659a6b7b96",
   "metadata": {},
   "outputs": [],
   "source": []
  },
  {
   "cell_type": "code",
   "execution_count": null,
   "id": "21a1ca0b-2bb4-46c4-8b11-1acd92133544",
   "metadata": {},
   "outputs": [],
   "source": []
  },
  {
   "cell_type": "code",
   "execution_count": null,
   "id": "a7fbcf9f-6135-43b9-8409-64cee326e27a",
   "metadata": {},
   "outputs": [],
   "source": []
  },
  {
   "cell_type": "code",
   "execution_count": null,
   "id": "2a46a3cc-3c39-41df-b740-1b806ae62a40",
   "metadata": {},
   "outputs": [],
   "source": []
  },
  {
   "cell_type": "code",
   "execution_count": null,
   "id": "049426b0-13f6-43ad-9b83-bfb1c2db8b59",
   "metadata": {},
   "outputs": [],
   "source": []
  },
  {
   "cell_type": "code",
   "execution_count": null,
   "id": "dcfa9255-3613-4f4b-8e0e-b30b7890a32d",
   "metadata": {},
   "outputs": [],
   "source": []
  },
  {
   "cell_type": "code",
   "execution_count": null,
   "id": "8f98f422-08c2-4d3b-b140-c2bad5350541",
   "metadata": {},
   "outputs": [],
   "source": []
  }
 ],
 "metadata": {
  "kernelspec": {
   "display_name": "Python 3 (ipykernel)",
   "language": "python",
   "name": "python3"
  },
  "language_info": {
   "codemirror_mode": {
    "name": "ipython",
    "version": 3
   },
   "file_extension": ".py",
   "mimetype": "text/x-python",
   "name": "python",
   "nbconvert_exporter": "python",
   "pygments_lexer": "ipython3",
   "version": "3.12.3"
  }
 },
 "nbformat": 4,
 "nbformat_minor": 5
}
